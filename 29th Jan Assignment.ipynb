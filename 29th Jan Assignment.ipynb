{
 "cells": [
  {
   "cell_type": "markdown",
   "id": "631a7fdf-c19c-49e3-91c3-abffdb3a3841",
   "metadata": {},
   "source": [
    "# 1. Guido van Rossum"
   ]
  },
  {
   "cell_type": "markdown",
   "id": "a2e60120-d2b6-4fdd-bca8-d0b5937869d7",
   "metadata": {},
   "source": [
    "# 2. Object oriented structured program"
   ]
  },
  {
   "cell_type": "markdown",
   "id": "c55c57f7-df41-4f76-97af-b7f093c9c9d2",
   "metadata": {},
   "source": [
    "# 3. Yes"
   ]
  },
  {
   "cell_type": "markdown",
   "id": "13259b70-2720-4ca2-88e1-3282f9ec14c4",
   "metadata": {},
   "source": [
    "# 4. .py"
   ]
  },
  {
   "cell_type": "markdown",
   "id": "bf6fd578-4d1b-4a76-b60d-278f505c7568",
   "metadata": {},
   "source": [
    "# 5. It is interpretated."
   ]
  },
  {
   "cell_type": "markdown",
   "id": "747fdb1d-98ff-4b9e-8c10-53279591194f",
   "metadata": {},
   "source": [
    "# 6. A module , a function body , a class defination"
   ]
  },
  {
   "cell_type": "markdown",
   "id": "7f2f24dd-6670-4fd4-a35d-ca60439372e4",
   "metadata": {},
   "source": [
    "# 7.hash(#)"
   ]
  },
  {
   "cell_type": "markdown",
   "id": "862c3826-6035-4d50-b53e-a99640f3e8ad",
   "metadata": {},
   "source": [
    "# 8. python_version () function"
   ]
  },
  {
   "cell_type": "markdown",
   "id": "e056341d-c47a-4a1d-9363-08e59a290e68",
   "metadata": {},
   "source": [
    "# 9. lambda"
   ]
  },
  {
   "cell_type": "markdown",
   "id": "44d77a4b-3209-4488-8fe5-83c91213b00f",
   "metadata": {},
   "source": [
    "# 10. preffered install program"
   ]
  },
  {
   "cell_type": "markdown",
   "id": "7e41e3c9-26ed-4364-bcd4-0b844ae06d1a",
   "metadata": {},
   "source": [
    "# 11. print, type, input"
   ]
  },
  {
   "cell_type": "markdown",
   "id": "7427c34c-b5c4-4a93-a24f-8967e993b292",
   "metadata": {},
   "source": [
    "# 12. 79 characters"
   ]
  },
  {
   "cell_type": "markdown",
   "id": "6f3d52c1-eb73-4af0-a98a-6cf39c66596e",
   "metadata": {},
   "source": [
    "# 13. it is easy to learn and the application is very big as there are numerous libraries"
   ]
  },
  {
   "cell_type": "markdown",
   "id": "237f8b75-5b54-42a9-a85f-c0f93c78c097",
   "metadata": {},
   "source": [
    "# 14. memory management involves a private heap containing all Python objects and data structures"
   ]
  },
  {
   "cell_type": "markdown",
   "id": "50c72326-a25e-4046-99a8-a0317923d9bc",
   "metadata": {},
   "source": [
    "# 15. through pip install process on python.org"
   ]
  },
  {
   "cell_type": "markdown",
   "id": "1349a241-7b98-4e51-ba0b-9cf3ea6db223",
   "metadata": {},
   "source": [
    "# 13. Yes"
   ]
  },
  {
   "cell_type": "code",
   "execution_count": null,
   "id": "bdae891b-5e30-4fc8-bd0c-39c2367be0e8",
   "metadata": {},
   "outputs": [],
   "source": []
  }
 ],
 "metadata": {
  "kernelspec": {
   "display_name": "Python 3 (ipykernel)",
   "language": "python",
   "name": "python3"
  },
  "language_info": {
   "codemirror_mode": {
    "name": "ipython",
    "version": 3
   },
   "file_extension": ".py",
   "mimetype": "text/x-python",
   "name": "python",
   "nbconvert_exporter": "python",
   "pygments_lexer": "ipython3",
   "version": "3.10.8"
  }
 },
 "nbformat": 4,
 "nbformat_minor": 5
}
